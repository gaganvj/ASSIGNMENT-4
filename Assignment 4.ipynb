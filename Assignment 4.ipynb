{
 "cells": [
  {
   "cell_type": "markdown",
   "metadata": {},
   "source": [
    "Assignment 1\n"
   ]
  },
  {
   "cell_type": "code",
   "execution_count": 8,
   "metadata": {},
   "outputs": [
    {
     "name": "stdout",
     "output_type": "stream",
     "text": [
      "Enter the sentence:what we think we become; we are Python programmer\n",
      "what we think we become; we are Python programmer\n",
      "Enter the word: we\n",
      "The word 'we' present in 'what we think we become; we are Python programmer' as: 1 --> 5 \n"
     ]
    }
   ],
   "source": [
    "string1 = input(\"Enter the sentence:\")\n",
    "print(string1)\n",
    "string2 = input(\"Enter the word: \")\n",
    "a = 0\n",
    "for i in range(len(str1)): \n",
    "  if string1.startswith(string2, i):\n",
    "    a=a+1\n",
    "    print(f\"The word '{string2}' present in '{string1}' as: {a} --> {i} \")\n",
    "if a==0:\n",
    "  print(f\"The word '{string2}' is not present in '{string1}'\")"
   ]
  },
  {
   "cell_type": "markdown",
   "metadata": {},
   "source": [
    "Assignment 2"
   ]
  },
  {
   "cell_type": "code",
   "execution_count": 9,
   "metadata": {},
   "outputs": [
    {
     "name": "stdout",
     "output_type": "stream",
     "text": [
      "Enter number of strings you want check:4\n",
      "Enter the stringhell1\n",
      "It contains alphabet and numbers\n",
      "The given string is uppercase: False\n",
      "The given string is lowercase: True\n",
      "Enter the stringhello\n",
      "It contains full of alphabet\n",
      "The given string is uppercase: False\n",
      "The given string is lowercase: True\n",
      "Enter the stringHello\n",
      "It contains full of alphabet\n",
      "The given string is uppercase: False\n",
      "The given string is lowercase: False\n",
      "Enter the stringHELLO\n",
      "It contains full of alphabet\n",
      "The given string is uppercase: True\n",
      "The given string is lowercase: False\n"
     ]
    }
   ],
   "source": [
    "a = int(input(\"Enter number of strings you want check:\"))\n",
    "for i in range(0,a):\n",
    "  s1= input(\"Enter the string\")\n",
    "  if s1.isalpha():\n",
    "    print(\"It contains full of alphabet\")\n",
    "  elif s1.isdigit():\n",
    "    print(\"It contains full of numbers\")\n",
    "  else:\n",
    "    print(\"It contains alphabet and numbers\")\n",
    "  upr= s1.isupper()\n",
    "  print(\"The given string is uppercase:\",upr)\n",
    "  lwr= s1.islower()\n",
    "  print(\"The given string is lowercase:\",lwr)"
   ]
  },
  {
   "cell_type": "code",
   "execution_count": null,
   "metadata": {},
   "outputs": [],
   "source": []
  }
 ],
 "metadata": {
  "kernelspec": {
   "display_name": "Python 3",
   "language": "python",
   "name": "python3"
  },
  "language_info": {
   "codemirror_mode": {
    "name": "ipython",
    "version": 3
   },
   "file_extension": ".py",
   "mimetype": "text/x-python",
   "name": "python",
   "nbconvert_exporter": "python",
   "pygments_lexer": "ipython3",
   "version": "3.7.3"
  }
 },
 "nbformat": 4,
 "nbformat_minor": 2
}
